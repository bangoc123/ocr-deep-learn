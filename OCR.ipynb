{
 "cells": [
  {
   "cell_type": "code",
   "execution_count": 11,
   "metadata": {},
   "outputs": [],
   "source": [
    "import pandas as pd\n",
    "import PIL\n",
    "import os\n",
    "from collections import Counter\n",
    "import shutil\n",
    "import cv2\n",
    "import numpy as np\n",
    "import pytesseract\n",
    "from matplotlib.pyplot import imshow\n",
    "%matplotlib inline"
   ]
  },
  {
   "cell_type": "markdown",
   "metadata": {},
   "source": [
    "### Use Tesseract to extract sentences"
   ]
  },
  {
   "cell_type": "markdown",
   "metadata": {},
   "source": [
    "<img src=\"images/partial-page.png\"/>"
   ]
  },
  {
   "cell_type": "markdown",
   "metadata": {},
   "source": [
    "Image from ***Eric Roberts Programming Abstractions in C***"
   ]
  },
  {
   "cell_type": "code",
   "execution_count": 14,
   "metadata": {},
   "outputs": [
    {
     "name": "stdout",
     "output_type": "stream",
     "text": [
      "Tracing the recursive process\n",
      "\n",
      "If you work from the mathematical definition, writing the recursive implementation\n",
      "of fact is straightforward. On the other hand, even though the definition is easy to\n",
      "write, the brevity of the solution may seem suspicious. When you are learning\n",
      "about recursion for the first time, the recursive implementation of fact seems to\n",
      "leave something out. Even though it clearly reflects the mathematical definition, the\n",
      "recursive formulation makes it hard to identify where the actual computational steps\n",
      "occur. When you call fact, for example, you want the computer to give you the\n",
      "answer. In the recursive implementation, all you see is a formula that transforms\n",
      "one call to fact into another one. Because the steps in that calculation are not\n",
      "explicit, it seems somewhat magical when the computer gets the right answer.\n",
      "\n",
      "If you follow through the logic the computer uses to evaluate any function call,\n",
      "however, you discover that no magic is involved. When the computer evaluates a\n",
      "call to the recursive fact function, it goes through the same process it uses to\n",
      "evaluate any other function call. To visualize the process, suppose that you have\n",
      "executed the statement\n"
     ]
    }
   ],
   "source": [
    "file = r'images/partial-page.png'\n",
    "image = PIL.Image.open(file)\n",
    "text = pytesseract.image_to_string(image)\n",
    "print(text)"
   ]
  },
  {
   "cell_type": "markdown",
   "metadata": {},
   "source": [
    "You can notice that the accuracy is quite good. But how we can train a model to approximate the accuracy?"
   ]
  },
  {
   "cell_type": "code",
   "execution_count": null,
   "metadata": {},
   "outputs": [],
   "source": []
  }
 ],
 "metadata": {
  "kernelspec": {
   "display_name": "Python 2",
   "language": "python",
   "name": "python2"
  },
  "language_info": {
   "codemirror_mode": {
    "name": "ipython",
    "version": 2
   },
   "file_extension": ".py",
   "mimetype": "text/x-python",
   "name": "python",
   "nbconvert_exporter": "python",
   "pygments_lexer": "ipython2",
   "version": "2.7.16"
  }
 },
 "nbformat": 4,
 "nbformat_minor": 2
}
